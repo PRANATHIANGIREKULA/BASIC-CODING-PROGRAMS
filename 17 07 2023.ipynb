{
 "cells": [
  {
   "cell_type": "code",
   "execution_count": 13,
   "id": "2217bee3",
   "metadata": {},
   "outputs": [
    {
     "name": "stdout",
     "output_type": "stream",
     "text": [
      "Enter a no:153\n",
      "153 is an armstrong no\n"
     ]
    }
   ],
   "source": [
    "#program to display it is armstrong number or not\n",
    "a=int(input(\"Enter a no:\"))\n",
    "n=len(str(a))\n",
    "sum=0\n",
    "temp=a\n",
    "while temp>0:\n",
    "    rem=temp%10\n",
    "    sum+=rem**n\n",
    "    temp//=10\n",
    "if a==sum:\n",
    "    print(f\"{a} is an armstrong no\")\n",
    "else:\n",
    "    print(f\"{a} is not an armstrong number\")\n",
    "    \n"
   ]
  },
  {
   "cell_type": "code",
   "execution_count": 12,
   "id": "a6181a9a",
   "metadata": {},
   "outputs": [
    {
     "name": "stdout",
     "output_type": "stream",
     "text": [
      "Enter a no:1\n",
      "Enter a no:1635\n",
      "1 2 3 4 5 6 7 8 9 153 370 371 407 1634 "
     ]
    }
   ],
   "source": [
    "#program to display  armstrong numbers between two numbers\n",
    "n1=int(input(\"Enter a no:\"))\n",
    "n2=int(input(\"Enter a no:\"))\n",
    "\n",
    "for n in range(n1,n2+1):\n",
    "   pow=len(str(n))\n",
    "   sum=0\n",
    "   temp=n\n",
    "   while temp>0:\n",
    "     rem=temp%10\n",
    "     sum+=rem**pow\n",
    "     temp//=10\n",
    "   if n==sum:\n",
    "     print(n, end=\" \")\n",
    "\n"
   ]
  },
  {
   "cell_type": "code",
   "execution_count": 10,
   "id": "7b8c76d7",
   "metadata": {},
   "outputs": [
    {
     "name": "stdout",
     "output_type": "stream",
     "text": [
      "Enter a number:3\n",
      "3 is a prime number\n"
     ]
    }
   ],
   "source": [
    "#Program to check given no is prime or  not\n",
    "n=int(input(\"Enter a number:\"))\n",
    "c=0\n",
    "if n==1:\n",
    "    print(f\"{n} is neither prime nor composite\")\n",
    "elif n>1:\n",
    "    for i in range(2,n):\n",
    "        if(n%i==0):\n",
    "            c+=1\n",
    "            break\n",
    "    if c==0:\n",
    "        print(f\"{n} is a prime number\")\n",
    "    else:\n",
    "        print(f\"{n} is not a prime number\")\n",
    "else:\n",
    "    print(\"Enter a positive integer\")\n",
    "        "
   ]
  },
  {
   "cell_type": "code",
   "execution_count": 9,
   "id": "78f6e91d",
   "metadata": {},
   "outputs": [
    {
     "name": "stdout",
     "output_type": "stream",
     "text": [
      "Enter how many prime no's you want:10\n",
      "prime numbers are: [2, 3, 5, 7, 11, 13, 17, 19, 23, 29]\n"
     ]
    }
   ],
   "source": [
    "#Program to display first n prime numbers\n",
    "def prime(n):\n",
    "    for i in range(2,n//2+1):\n",
    "        if (n%i==0):\n",
    "            return(0)\n",
    "    return(1)\n",
    "n=int(input(\"Enter how many prime no's you want:\"))\n",
    "i=2\n",
    "lst=[]\n",
    "while(1):\n",
    "    if(prime(i)):\n",
    "        lst.append(i)\n",
    "        if(len(lst)==n):\n",
    "            break\n",
    "    i+=1\n",
    "print('prime numbers are:',end=\" \")\n",
    "print(lst)\n",
    "    "
   ]
  },
  {
   "cell_type": "code",
   "execution_count": 8,
   "id": "2cb1448e",
   "metadata": {},
   "outputs": [
    {
     "name": "stdout",
     "output_type": "stream",
     "text": [
      "Enter the year:2003\n",
      "2003 is not a LEAP YEAR\n"
     ]
    }
   ],
   "source": [
    "#Program to check leap year or not\n",
    "def checkLeap(n):\n",
    "    if((year%400==0) or (year%100!=0) and (year%4==0)):\n",
    "        print(f\"{n} is a LEAP YEAR\")\n",
    "    else:\n",
    "        print(f\"{n} is not a LEAP YEAR\")\n",
    "year=int(input(\"Enter the year:\"))\n",
    "checkLeap(year)"
   ]
  },
  {
   "cell_type": "code",
   "execution_count": 7,
   "id": "e0e95426",
   "metadata": {},
   "outputs": [
    {
     "name": "stdout",
     "output_type": "stream",
     "text": [
      "Enter a number:331\n",
      "The reverse of 331 is: 133\n"
     ]
    }
   ],
   "source": [
    "#Program to find reverse of a given number\n",
    "n=int(input(\"Enter a number:\"))\n",
    "rn=0\n",
    "temp=n\n",
    "while n>0:\n",
    "    rem=n%10\n",
    "    rn=rn*10+rem\n",
    "    n=n//10\n",
    "print(f\"The reverse of {temp} is: {rn}\")    "
   ]
  },
  {
   "cell_type": "code",
   "execution_count": 6,
   "id": "e7a5f367",
   "metadata": {},
   "outputs": [
    {
     "name": "stdout",
     "output_type": "stream",
     "text": [
      "Enter a number:123\n",
      "123 is not a palindrome\n"
     ]
    }
   ],
   "source": [
    "#Program to find given number is palindrome or not\n",
    "n=int(input(\"Enter a number:\"))\n",
    "rn=0\n",
    "temp=n\n",
    "while n>0:\n",
    "    rem=n%10\n",
    "    rn=rn*10+rem\n",
    "    n=n//10\n",
    "if temp==rn:\n",
    "    print(f\"{temp} is a palindrome\")\n",
    "else:\n",
    "    print(f\"{temp} is not a palindrome\")"
   ]
  },
  {
   "cell_type": "code",
   "execution_count": 5,
   "id": "3d1fd5f5",
   "metadata": {},
   "outputs": [
    {
     "name": "stdout",
     "output_type": "stream",
     "text": [
      "Enter a number:4\n",
      "The 4 fibonacci series is 2\n"
     ]
    }
   ],
   "source": [
    "#Program to find Nth fabinocci number\n",
    "def fibo(n):\n",
    "    if n<0:\n",
    "        print(\"Enter valid input\")\n",
    "    elif n==1:\n",
    "        return(0)\n",
    "    elif n==2:\n",
    "        return(1)\n",
    "    else:\n",
    "        return(fibo(n-1)+fibo(n-2))\n",
    "n=int(input('Enter a number:'))\n",
    "print(f\"The {n} fibonacci series is {fibo(n)}\")"
   ]
  },
  {
   "cell_type": "code",
   "execution_count": 4,
   "id": "a92364ba",
   "metadata": {},
   "outputs": [
    {
     "name": "stdout",
     "output_type": "stream",
     "text": [
      "enter 1st no:2\n",
      "enter 2nd no:3\n",
      "Before swapping:\n",
      "Value of x: 2 value of y is: 3\n",
      "After swapping:\n",
      "Value of x: 3 value of y is: 2\n"
     ]
    }
   ],
   "source": [
    "#Program to swap 2 numbers without using 3rd parameter\n",
    "x=int(input(\"enter 1st no:\"))\n",
    "y=int(input(\"enter 2nd no:\"))\n",
    "print(\"Before swapping:\")\n",
    "print(\"Value of x:\",x,\"value of y is:\",y)\n",
    "x=x+y\n",
    "y=x-y\n",
    "x=x-y\n",
    "print(\"After swapping:\")\n",
    "print(\"Value of x:\",x,\"value of y is:\",y)"
   ]
  },
  {
   "cell_type": "code",
   "execution_count": 3,
   "id": "0976b818",
   "metadata": {},
   "outputs": [
    {
     "name": "stdout",
     "output_type": "stream",
     "text": [
      "Enter a decimal number:10\n",
      "0b1010\n"
     ]
    }
   ],
   "source": [
    "#conversion from decimal to binary \n",
    "n=int(input(\"Enter a decimal number:\"))\n",
    "print(bin(n))"
   ]
  },
  {
   "cell_type": "code",
   "execution_count": 1,
   "id": "f6f0cee0",
   "metadata": {},
   "outputs": [
    {
     "name": "stdout",
     "output_type": "stream",
     "text": [
      "Enter a decimal number:8\n",
      "0o10\n"
     ]
    }
   ],
   "source": [
    "#conversion from decimal to octal \n",
    "n=int(input(\"Enter a decimal number:\"))\n",
    "print(oct(n))"
   ]
  },
  {
   "cell_type": "code",
   "execution_count": 2,
   "id": "c078e849",
   "metadata": {},
   "outputs": [
    {
     "name": "stdout",
     "output_type": "stream",
     "text": [
      "Enter a decimal number:10\n",
      "0xa\n"
     ]
    }
   ],
   "source": [
    "#conversion from decimal to hexadecimal\n",
    "n=int(input(\"Enter a decimal number:\"))\n",
    "print(hex(n))"
   ]
  }
 ],
 "metadata": {
  "kernelspec": {
   "display_name": "Python 3 (ipykernel)",
   "language": "python",
   "name": "python3"
  },
  "language_info": {
   "codemirror_mode": {
    "name": "ipython",
    "version": 3
   },
   "file_extension": ".py",
   "mimetype": "text/x-python",
   "name": "python",
   "nbconvert_exporter": "python",
   "pygments_lexer": "ipython3",
   "version": "3.9.13"
  }
 },
 "nbformat": 4,
 "nbformat_minor": 5
}
